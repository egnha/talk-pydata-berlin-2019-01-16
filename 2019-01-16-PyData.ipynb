{
 "cells": [
  {
   "cell_type": "markdown",
   "metadata": {
    "slideshow": {
     "slide_type": "slide"
    }
   },
   "source": [
    "# Five lessons from the Advent of Code\n",
    "\n",
    "### Eugene Ha\n",
    "\n",
    "<p>\n",
    "PyData Berlin<br>\n",
    "16 Jan 2019"
   ]
  },
  {
   "cell_type": "markdown",
   "metadata": {
    "slideshow": {
     "slide_type": "slide"
    }
   },
   "source": [
    "## [Advent of Code](https://adventofcode.com)"
   ]
  },
  {
   "cell_type": "markdown",
   "metadata": {
    "slideshow": {
     "slide_type": "fragment"
    }
   },
   "source": [
    "- By [Eric Wastl](http://was.tl) — a creative _tour de force_\n",
    "\n",
    "- 25 (mischievous) programming challenges, covering spectrum of CS topics\n",
    "\n",
    "- Each problem has 2 parts, revealed one at a time\n",
    "\n",
    "- 2nd part often changes \"business requirements\"—refactor or take new approach"
   ]
  },
  {
   "cell_type": "markdown",
   "metadata": {
    "slideshow": {
     "slide_type": "slide"
    }
   },
   "source": [
    "## Some lessons learned"
   ]
  },
  {
   "cell_type": "markdown",
   "metadata": {
    "slideshow": {
     "slide_type": "slide"
    }
   },
   "source": [
    "## _1_\n",
    "\n",
    "## Use [Numba](https://numba.pydata.org) to speed up your code for free\\*"
   ]
  },
  {
   "cell_type": "markdown",
   "metadata": {
    "slideshow": {
     "slide_type": "fragment"
    }
   },
   "source": [
    "\\* Conditions and restrictions apply. See your 🐍 guru."
   ]
  },
  {
   "cell_type": "code",
   "execution_count": 1,
   "metadata": {
    "slideshow": {
     "slide_type": "skip"
    }
   },
   "outputs": [],
   "source": [
    "## NO SLIDE\n",
    "import numpy as np\n",
    "\n",
    "def make_input(n, pos, init):\n",
    "    pos = np.array(pos, dtype='int')\n",
    "    scores = np.ones(int(n + 10), dtype='int')\n",
    "    scores[:len(init)] = init\n",
    "    return pos, scores, len(init)\n",
    "\n",
    "pos, scores, n = make_input(580741, (0, 1), (3, 7))"
   ]
  },
  {
   "cell_type": "markdown",
   "metadata": {
    "slideshow": {
     "slide_type": "subslide"
    }
   },
   "source": [
    "### An ordinary function ([Day 14](https://adventofcode.com/2018/day/14))"
   ]
  },
  {
   "cell_type": "code",
   "execution_count": 2,
   "metadata": {
    "slideshow": {
     "slide_type": "fragment"
    }
   },
   "outputs": [],
   "source": [
    "import numpy as np\n",
    "\n",
    "def fill_scores(pos, scores, n):\n",
    "    scores = scores.copy()\n",
    "    while n < len(scores):\n",
    "        s = np.sum(scores[pos])\n",
    "        if s >= 10:\n",
    "            scores[n + 1] = s - 10\n",
    "            n += 2\n",
    "        else:\n",
    "            scores[n] = s\n",
    "            n += 1\n",
    "        pos = (pos + 1 + scores[pos]) % n\n",
    "    return scores"
   ]
  },
  {
   "cell_type": "code",
   "execution_count": 3,
   "metadata": {
    "slideshow": {
     "slide_type": "fragment"
    }
   },
   "outputs": [
    {
     "name": "stdout",
     "output_type": "stream",
     "text": [
      "3.28 s ± 25.1 ms per loop (mean ± std. dev. of 7 runs, 1 loop each)\n"
     ]
    }
   ],
   "source": [
    "%%timeit\n",
    "fill_scores(pos, scores, n)"
   ]
  },
  {
   "cell_type": "markdown",
   "metadata": {
    "slideshow": {
     "slide_type": "-"
    }
   },
   "source": [
    "🐢"
   ]
  },
  {
   "cell_type": "markdown",
   "metadata": {
    "slideshow": {
     "slide_type": "subslide"
    }
   },
   "source": [
    "### Same code JIT-compiled"
   ]
  },
  {
   "cell_type": "code",
   "execution_count": 4,
   "metadata": {
    "slideshow": {
     "slide_type": "fragment"
    }
   },
   "outputs": [],
   "source": [
    "from numba import jit\n",
    "\n",
    "@jit(nopython=True)\n",
    "def fill_scores_jit(pos, scores, n):\n",
    "    scores = scores.copy()\n",
    "    while n < len(scores):\n",
    "        s = np.sum(scores[pos])\n",
    "        if s >= 10:\n",
    "            scores[n + 1] = s - 10\n",
    "            n += 2\n",
    "        else:\n",
    "            scores[n] = s\n",
    "            n += 1\n",
    "        pos = (pos + 1 + scores[pos]) % n\n",
    "    return scores\n",
    "\n",
    "# JIT-compiled on first call\n",
    "fill_scores_jit(pos, scores, n);"
   ]
  },
  {
   "cell_type": "code",
   "execution_count": 5,
   "metadata": {
    "slideshow": {
     "slide_type": "fragment"
    }
   },
   "outputs": [
    {
     "name": "stdout",
     "output_type": "stream",
     "text": [
      "194 ms ± 2.57 ms per loop (mean ± std. dev. of 7 runs, 1 loop each)\n"
     ]
    }
   ],
   "source": [
    "%%timeit\n",
    "fill_scores_jit(pos, scores, n)"
   ]
  },
  {
   "cell_type": "markdown",
   "metadata": {
    "slideshow": {
     "slide_type": "-"
    }
   },
   "source": [
    "**>10x** faster 🐰"
   ]
  },
  {
   "cell_type": "markdown",
   "metadata": {
    "slideshow": {
     "slide_type": "slide"
    }
   },
   "source": [
    "## _2_\n",
    "\n",
    "## Study APL to learn effective [NumPy](https://numpy.org)"
   ]
  },
  {
   "cell_type": "markdown",
   "metadata": {
    "slideshow": {
     "slide_type": "subslide"
    }
   },
   "source": [
    "### A taste of APL"
   ]
  },
  {
   "cell_type": "markdown",
   "metadata": {
    "slideshow": {
     "slide_type": "fragment"
    }
   },
   "source": [
    "Game of Life (cellular automaton)\n",
    "\n",
    "```APL\n",
    "life←{↑1 ⍵∨.∧3 4=+/,¯1 0 1∘.⊖¯1 0 1∘.⌽⊂⍵}\n",
    "```"
   ]
  },
  {
   "cell_type": "markdown",
   "metadata": {
    "slideshow": {
     "slide_type": "fragment"
    }
   },
   "source": [
    "<img src=\"images/life.gif\">"
   ]
  },
  {
   "cell_type": "markdown",
   "metadata": {
    "slideshow": {
     "slide_type": "subslide"
    }
   },
   "source": [
    "## Logging trees: a cellular automaton ([Day 18](https://adventofcode.com/2018/day/18))"
   ]
  },
  {
   "cell_type": "markdown",
   "metadata": {
    "slideshow": {
     "slide_type": "fragment"
    }
   },
   "source": [
    "```\n",
    ".#.#...|#.    .......##.    .......#..       .||##.....\n",
    ".....#|##|    ......|###    ......|#..       ||###.....\n",
    ".|..|...#.    .|..|...#.    .|.|||....       ||##......\n",
    "..|#.....#    ..|#||...#    ..##|||..#       |##.....##\n",
    "#.#|||#|#|    ..##||.|#|    ..###|||#|       |##.....##\n",
    "...#.||...    ...#||||..    ...#|||||.  ...  |##....##|\n",
    ".|....|...    ||...|||..    |||||||||.       ||##.####|\n",
    "||...#|.#|    |||||.||.|    ||||||||||       ||#####|||\n",
    "|.||||..|.    ||||||||||    ||||||||||       ||||#|||||\n",
    "...#.|..|.    ....||..|.    .|||||||||       ||||||||||\n",
    "\n",
    "0             1             2                10\n",
    "```"
   ]
  },
  {
   "cell_type": "markdown",
   "metadata": {
    "slideshow": {
     "slide_type": "subslide"
    }
   },
   "source": [
    "### Neighboring cells"
   ]
  },
  {
   "cell_type": "code",
   "execution_count": 6,
   "metadata": {
    "slideshow": {
     "slide_type": "fragment"
    }
   },
   "outputs": [],
   "source": [
    "import numpy as np\n",
    "\n",
    "def neighbors(area):\n",
    "    \"Array of the 8 neighbor-matrices (3D-array).\"\n",
    "    amb, rows, cols = ambient_region(area.shape)\n",
    "    amb[np.ix_(rows, cols)] = area\n",
    "    shifts = [amb[np.ix_(rows + i, cols + j)] for i, j in SHIFTS]\n",
    "    return np.array(shifts)"
   ]
  },
  {
   "cell_type": "code",
   "execution_count": 7,
   "metadata": {
    "slideshow": {
     "slide_type": "fragment"
    }
   },
   "outputs": [],
   "source": [
    "SHIFTS = (\n",
    "    (-1, -1), (-1, 0), (-1, 1),\n",
    "    ( 0, -1),          ( 0, 1),\n",
    "    ( 1, -1), ( 1, 0), ( 1, 1),\n",
    ")"
   ]
  },
  {
   "cell_type": "code",
   "execution_count": 8,
   "metadata": {
    "slideshow": {
     "slide_type": "fragment"
    }
   },
   "outputs": [],
   "source": [
    "def ambient_region(shape):\n",
    "    shape = np.array(shape) + 2\n",
    "    rows, cols = (np.arange(1, s - 1) for s in shape)\n",
    "    amb = np.zeros(shape, dtype='int')\n",
    "    return amb, rows, cols"
   ]
  },
  {
   "cell_type": "markdown",
   "metadata": {
    "slideshow": {
     "slide_type": "subslide"
    }
   },
   "source": [
    "### Cell-transition rules\n",
    "\n",
    "  - `'.' → '|'`&nbsp;: &nbsp;when 3 or more neighbors are `'|'`\n",
    "  \n",
    "  - `'|' → '#'`&nbsp;: &nbsp;when 3 or more neighbors are `'#'`\n",
    "  \n",
    "  - `'#' → '.'`&nbsp;: &nbsp;when 0 neighbors are `'|'` or 0 neighbors are `'#'`"
   ]
  },
  {
   "cell_type": "code",
   "execution_count": 9,
   "metadata": {
    "slideshow": {
     "slide_type": "fragment"
    }
   },
   "outputs": [],
   "source": [
    "def rules(area):\n",
    "    \"Cell-transition rules in a given area (matrix).\"\n",
    "    nbhs = neighbors(area)\n",
    "    cnts = [np.sum(nbhs == i, axis=0) for i in (1, 2)]\n",
    "    return (\n",
    "        (area == 0) & (cnts[0] >= 3),\n",
    "        (area == 1) & (cnts[1] >= 3),\n",
    "        (area == 2) & ((cnts[0] == 0) | (cnts[1] == 0)),\n",
    "    )"
   ]
  },
  {
   "cell_type": "markdown",
   "metadata": {
    "slideshow": {
     "slide_type": "subslide"
    }
   },
   "source": [
    "### Logging trees"
   ]
  },
  {
   "cell_type": "code",
   "execution_count": 10,
   "metadata": {
    "slideshow": {
     "slide_type": "fragment"
    }
   },
   "outputs": [],
   "source": [
    "from functools import reduce\n",
    "from operator  import or_\n",
    "\n",
    "def log_trees(area):\n",
    "    area = area.copy()\n",
    "    transition = reduce(or_, rules(area))\n",
    "    area[transition] = (area[transition] + 1) % 3\n",
    "    return area"
   ]
  },
  {
   "cell_type": "code",
   "execution_count": 11,
   "metadata": {
    "slideshow": {
     "slide_type": "skip"
    }
   },
   "outputs": [],
   "source": [
    "## NO SLIDE\n",
    "def grid(scan, acre={a: i for i, a in enumerate('.|#')}):\n",
    "    acres = [[acre[a] for a in line] for line in scan]\n",
    "    return np.array(acres)\n",
    "\n",
    "def draw(area, acre=np.array(list('.|#'))):\n",
    "    grid = acre[area]\n",
    "    for line in grid:\n",
    "        print(''.join(line))\n",
    "        \n",
    "scan = (\n",
    "    '.#.#...|#.',\n",
    "    '.....#|##|',\n",
    "    '.|..|...#.',\n",
    "    '..|#.....#',\n",
    "    '#.#|||#|#|',\n",
    "    '...#.||...',\n",
    ")\n",
    "area = grid(scan)"
   ]
  },
  {
   "cell_type": "code",
   "execution_count": 12,
   "metadata": {
    "slideshow": {
     "slide_type": "fragment"
    }
   },
   "outputs": [
    {
     "name": "stdout",
     "output_type": "stream",
     "text": [
      ".#.#...|#.\n",
      ".....#|##|\n",
      ".|..|...#.\n",
      "..|#.....#\n",
      "#.#|||#|#|\n",
      "...#.||...\n"
     ]
    }
   ],
   "source": [
    "draw(area)"
   ]
  },
  {
   "cell_type": "code",
   "execution_count": 13,
   "metadata": {
    "slideshow": {
     "slide_type": "fragment"
    }
   },
   "outputs": [
    {
     "name": "stdout",
     "output_type": "stream",
     "text": [
      ".......#..\n",
      "......|#..\n",
      ".|.|||....\n",
      "..##|||..#\n",
      "..###|||#|\n",
      "...#|||...\n"
     ]
    }
   ],
   "source": [
    "draw(log_trees(log_trees(area)))"
   ]
  },
  {
   "cell_type": "markdown",
   "metadata": {
    "slideshow": {
     "slide_type": "slide"
    }
   },
   "source": [
    "## _3_\n",
    "\n",
    "## Write declarative code with the [Functional Triumvirate](https://docs.python.org/3/library/functional.html)"
   ]
  },
  {
   "cell_type": "markdown",
   "metadata": {
    "slideshow": {
     "slide_type": "subslide"
    }
   },
   "source": [
    "### The [Functional Triumvirate](https://docs.python.org/3/library/functional.html) (in the [Standard Library](https://docs.python.org/3/library/index.html))"
   ]
  },
  {
   "cell_type": "markdown",
   "metadata": {
    "slideshow": {
     "slide_type": "fragment"
    }
   },
   "source": [
    "  - [`itertools`](https://docs.python.org/3/library/itertools.html) (especially)\n",
    "\n",
    "  - [`functools`](https://docs.python.org/3/library/functools.html)\n",
    "\n",
    "  - [`operator`](https://docs.python.org/3/library/operator.html)"
   ]
  },
  {
   "cell_type": "markdown",
   "metadata": {
    "slideshow": {
     "slide_type": "fragment"
    }
   },
   "source": [
    "Python is [_not_ a functional programming language](http://python-history.blogspot.com/2009/04/origins-of-pythons-functional-features.html)."
   ]
  },
  {
   "cell_type": "markdown",
   "metadata": {
    "slideshow": {
     "slide_type": "fragment"
    }
   },
   "source": [
    "But you can still use functional idioms to write **declarative** code."
   ]
  },
  {
   "cell_type": "markdown",
   "metadata": {
    "slideshow": {
     "slide_type": "subslide"
    }
   },
   "source": [
    "### Handy functional idioms"
   ]
  },
  {
   "cell_type": "markdown",
   "metadata": {
    "slideshow": {
     "slide_type": "fragment"
    }
   },
   "source": [
    "**Iterate** a function, indefinitely:"
   ]
  },
  {
   "cell_type": "code",
   "execution_count": 14,
   "metadata": {
    "slideshow": {
     "slide_type": "-"
    }
   },
   "outputs": [],
   "source": [
    "import itertools as it\n",
    "\n",
    "def iterate(f, init):\n",
    "    apply = lambda x, _: f(x)\n",
    "    return it.accumulate(it.repeat(init), apply)"
   ]
  },
  {
   "cell_type": "markdown",
   "metadata": {
    "slideshow": {
     "slide_type": "fragment"
    }
   },
   "source": [
    "**Split** a sequence by key — no [🐼](https://pandas.pydata.org) required:"
   ]
  },
  {
   "cell_type": "code",
   "execution_count": 15,
   "metadata": {
    "slideshow": {
     "slide_type": "-"
    }
   },
   "outputs": [],
   "source": [
    "def split(xs, *, key):\n",
    "    groups = it.groupby(sorted(xs, key=key), key=key)\n",
    "    return tuple(tuple(g) for _, g in groups)"
   ]
  },
  {
   "cell_type": "markdown",
   "metadata": {
    "slideshow": {
     "slide_type": "fragment"
    }
   },
   "source": [
    "Return the **n-th item** (from [Itertools Recipes](https://docs.python.org/3/library/itertools.html#itertools-recipes)):"
   ]
  },
  {
   "cell_type": "code",
   "execution_count": 16,
   "metadata": {
    "slideshow": {
     "slide_type": "-"
    }
   },
   "outputs": [],
   "source": [
    "def nth(iterable, n, default=None):\n",
    "    return next(it.islice(iterable, n, None), default)"
   ]
  },
  {
   "cell_type": "markdown",
   "metadata": {
    "slideshow": {
     "slide_type": "subslide"
    }
   },
   "source": [
    "### Back to logging trees ([Day 18](https://adventofcode.com/2018/day/18))"
   ]
  },
  {
   "cell_type": "code",
   "execution_count": 17,
   "metadata": {
    "slideshow": {
     "slide_type": "skip"
    }
   },
   "outputs": [],
   "source": [
    "## NO SLIDE\n",
    "scan = (\n",
    "    '.#.#...|#.',\n",
    "    '.....#|##|',\n",
    "    '.|..|...#.',\n",
    "    '..|#.....#',\n",
    "    '#.#|||#|#|',\n",
    "    '...#.||...',\n",
    "    '.|....|...',\n",
    "    '||...#|.#|',\n",
    "    '|.||||..|.',\n",
    "    '...#.|..|.',\n",
    ")\n",
    "area = grid(scan)"
   ]
  },
  {
   "cell_type": "code",
   "execution_count": 18,
   "metadata": {
    "slideshow": {
     "slide_type": "fragment"
    }
   },
   "outputs": [
    {
     "name": "stdout",
     "output_type": "stream",
     "text": [
      ".#.#...|#.\n",
      ".....#|##|\n",
      ".|..|...#.\n",
      "..|#.....#\n",
      "#.#|||#|#|\n",
      "...#.||...\n",
      ".|....|...\n",
      "||...#|.#|\n",
      "|.||||..|.\n",
      "...#.|..|.\n"
     ]
    }
   ],
   "source": [
    "draw(area)"
   ]
  },
  {
   "cell_type": "code",
   "execution_count": 19,
   "metadata": {
    "slideshow": {
     "slide_type": "fragment"
    }
   },
   "outputs": [
    {
     "name": "stdout",
     "output_type": "stream",
     "text": [
      ".||##.....\n",
      "||###.....\n",
      "||##......\n",
      "|##.....##\n",
      "|##.....##\n",
      "|##....##|\n",
      "||##.####|\n",
      "||#####|||\n",
      "||||#|||||\n",
      "||||||||||\n"
     ]
    }
   ],
   "source": [
    "area10 = nth(iterate(log_trees, area), 10)\n",
    "draw(area10)"
   ]
  },
  {
   "cell_type": "markdown",
   "metadata": {
    "slideshow": {
     "slide_type": "slide"
    }
   },
   "source": [
    "## _4_\n",
    "\n",
    "## Maintain simplicity with [memoization](https://en.wikipedia.org/wiki/Memoization)"
   ]
  },
  {
   "cell_type": "markdown",
   "metadata": {
    "slideshow": {
     "slide_type": "subslide"
    }
   },
   "source": [
    "### Effectively refactor _without_ rewriting"
   ]
  },
  {
   "cell_type": "markdown",
   "metadata": {
    "slideshow": {
     "slide_type": "fragment"
    }
   },
   "source": [
    "  - If `area` shape doesn't change, neither does `ambient_region()`\n",
    "  - But it keeps getting called by `neighbors()`!\n",
    "  - Refactor so that `ambient_region()` is called _only_ when needed?"
   ]
  },
  {
   "cell_type": "code",
   "execution_count": 20,
   "metadata": {
    "slideshow": {
     "slide_type": "-"
    }
   },
   "outputs": [],
   "source": [
    "def neighbors(area):\n",
    "    \"Array of the 8 neighbor-matrices (3D-array).\"\n",
    "    amb, rows, cols = ambient_region(area.shape)\n",
    "    amb[np.ix_(rows, cols)] = area\n",
    "    shifts = [amb[np.ix_(rows + i, cols + j)] for i, j in SHIFTS]\n",
    "    return np.array(shifts)"
   ]
  },
  {
   "cell_type": "markdown",
   "metadata": {
    "slideshow": {
     "slide_type": "fragment"
    }
   },
   "source": [
    "Instead of modifying `neighbors()` **and its caller**, make `ambient_region()` effectively **constant** by memoizing:"
   ]
  },
  {
   "cell_type": "code",
   "execution_count": 21,
   "metadata": {},
   "outputs": [],
   "source": [
    "from functools import lru_cache\n",
    "\n",
    "@lru_cache()\n",
    "def ambient_region(shape):\n",
    "    shape = np.array(shape) + 2\n",
    "    rows, cols = (np.arange(1, s - 1) for s in shape)\n",
    "    amb = np.zeros(shape, dtype='int')\n",
    "    return amb, rows, cols"
   ]
  },
  {
   "cell_type": "markdown",
   "metadata": {
    "slideshow": {
     "slide_type": "slide"
    }
   },
   "source": [
    "## _5_\n",
    "\n",
    "## See your data with [ipywidgets](https://ipywidgets.readthedocs.io/en/stable/)"
   ]
  },
  {
   "cell_type": "code",
   "execution_count": 22,
   "metadata": {
    "slideshow": {
     "slide_type": "skip"
    }
   },
   "outputs": [],
   "source": [
    "## DEMO\n",
    "with open('data/input-18', 'r') as f:\n",
    "    scan = [line.rstrip() for line in list(f)]\n",
    "area = grid(scan)"
   ]
  },
  {
   "cell_type": "markdown",
   "metadata": {
    "slideshow": {
     "slide_type": "skip"
    }
   },
   "source": [
    "Take 1000 logging rounds:"
   ]
  },
  {
   "cell_type": "code",
   "execution_count": 23,
   "metadata": {
    "slideshow": {
     "slide_type": "skip"
    }
   },
   "outputs": [],
   "source": [
    "## DEMO\n",
    "logged_trees = list(it.islice(iterate(log_trees, area), 1000))"
   ]
  },
  {
   "cell_type": "markdown",
   "metadata": {
    "slideshow": {
     "slide_type": "skip"
    }
   },
   "source": [
    "Page through the first 100:"
   ]
  },
  {
   "cell_type": "code",
   "execution_count": 24,
   "metadata": {
    "slideshow": {
     "slide_type": "skip"
    }
   },
   "outputs": [
    {
     "data": {
      "application/vnd.jupyter.widget-view+json": {
       "model_id": "6952ecc0be7640deb2b87f40f37b552c",
       "version_major": 2,
       "version_minor": 0
      },
      "text/plain": [
       "interactive(children=(IntSlider(value=0, description='n'), Output()), _dom_classes=('widget-interact',))"
      ]
     },
     "metadata": {},
     "output_type": "display_data"
    }
   ],
   "source": [
    "## DEMO\n",
    "from ipywidgets import interact, IntSlider\n",
    "\n",
    "@interact(n=IntSlider(min=0, max=100, value=0))\n",
    "def _(n): draw(logged_trees[n])"
   ]
  },
  {
   "cell_type": "markdown",
   "metadata": {
    "slideshow": {
     "slide_type": "slide"
    }
   },
   "source": [
    "## The moral of the story"
   ]
  },
  {
   "cell_type": "markdown",
   "metadata": {
    "slideshow": {
     "slide_type": "fragment"
    }
   },
   "source": [
    "- Use [Numba](https://numba.pydata.org) to **speed up** your code for \"free\""
   ]
  },
  {
   "cell_type": "markdown",
   "metadata": {
    "slideshow": {
     "slide_type": "fragment"
    }
   },
   "source": [
    "- Study APL to learn **effective [NumPy](https://numpy.org)**"
   ]
  },
  {
   "cell_type": "markdown",
   "metadata": {
    "slideshow": {
     "slide_type": "fragment"
    }
   },
   "source": [
    "- Write **declarative** code with the [Functional Triumvirate](https://docs.python.org/3/library/functional.html)"
   ]
  },
  {
   "cell_type": "markdown",
   "metadata": {
    "slideshow": {
     "slide_type": "fragment"
    }
   },
   "source": [
    "- Maintain **simplicity** with [memoization](https://en.wikipedia.org/wiki/Memoization)"
   ]
  },
  {
   "cell_type": "markdown",
   "metadata": {
    "slideshow": {
     "slide_type": "fragment"
    }
   },
   "source": [
    "- **See** your data with [ipywidgets](https://ipywidgets.readthedocs.io/en/stable/)"
   ]
  },
  {
   "cell_type": "markdown",
   "metadata": {
    "slideshow": {
     "slide_type": "fragment"
    }
   },
   "source": [
    "## Thanks for your attention!\n",
    "\n",
    "[github.com/egnha](https://github.com/egnha)<br>\n",
    "[eugeneha.com](https://eugeneha.com)"
   ]
  }
 ],
 "metadata": {
  "kernelspec": {
   "display_name": "Python 3",
   "language": "python",
   "name": "python3"
  },
  "language_info": {
   "codemirror_mode": {
    "name": "ipython",
    "version": 3
   },
   "file_extension": ".py",
   "mimetype": "text/x-python",
   "name": "python",
   "nbconvert_exporter": "python",
   "pygments_lexer": "ipython3",
   "version": "3.7.1"
  }
 },
 "nbformat": 4,
 "nbformat_minor": 2
}
